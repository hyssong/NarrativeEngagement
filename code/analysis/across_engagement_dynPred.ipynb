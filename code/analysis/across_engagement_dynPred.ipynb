{
 "cells": [
  {
   "cell_type": "markdown",
   "metadata": {},
   "source": [
    "# Engagement across-dataset prediction\n",
    "\n",
    "Song, Finn, & Rosenberg (2021) Neural signatures of attentional engagement during narratives and its consequences for event memory, bioRxiv, doi.org/10.1101/2020.08.26.266320\n",
    "\n",
    "Code by Hayoung Song (hyssong@uchicago.edu)\n",
    "\n",
    "This code trains a support vector regression model to predict moment-by-moment behavioral data (group-average engagement) from moment-by-moment fMRI measures (dynamic functional connectivity) in all participants from one dataset (e.g., *Paranoia*), and tests the model on an external dataset (e.g., *Sherlock*). Selected features, or functional connections, are those that were significantly correlated (*p* < .01) with behavior in every cross-validation fold in the within-dataset prediction analysis. The trained SVR is applied to every subject in the test dataset to predict behavior (group-average engagement) from time-resolved functional connectivity. Model performance is evaluated with the Fisher's *z*-transformed Pearson's *r* between the predicted and observed behavioral timecourses, averaged across participants in the test dataset. Actual model performance is compared with permuted null distribution, where null models predict phase-randomized behavioral timecourses (one-tailed test, iteration=1,000)."
   ]
  },
  {
   "cell_type": "markdown",
   "metadata": {},
   "source": [
    "## Import libraries"
   ]
  },
  {
   "cell_type": "code",
   "execution_count": 1,
   "metadata": {},
   "outputs": [
    {
     "name": "stderr",
     "output_type": "stream",
     "text": [
      "/Users/hayoungsong/anaconda3/lib/python3.7/site-packages/statsmodels/tools/_testing.py:19: FutureWarning: pandas.util.testing is deprecated. Use the functions in the public API at pandas.testing instead.\n",
      "  import pandas.util.testing as tm\n"
     ]
    }
   ],
   "source": [
    "import numpy as np\n",
    "import os\n",
    "from sklearn import svm\n",
    "from sklearn import metrics\n",
    "import scipy.io\n",
    "from scipy import stats\n",
    "import matplotlib.pyplot as plt\n",
    "from scipy import stats, linalg\n",
    "import seaborn as sns\n",
    "import warnings\n",
    "from sklearn.exceptions import ConvergenceWarning\n",
    "def conv_r2z(r):\n",
    "    with np.errstate(invalid='ignore', divide='ignore'):\n",
    "        return 0.5 * (np.log(1 + r) - np.log(1 - r))\n",
    "def conv_z2r(z):\n",
    "    with np.errstate(invalid='ignore', divide='ignore'):\n",
    "        return (np.exp(2 * z) - 1) / (np.exp(2 * z) + 1)\n",
    "%matplotlib inline"
   ]
  },
  {
   "cell_type": "markdown",
   "metadata": {},
   "source": [
    "## Settings"
   ]
  },
  {
   "cell_type": "code",
   "execution_count": 2,
   "metadata": {},
   "outputs": [
    {
     "name": "stdout",
     "output_type": "stream",
     "text": [
      "Across-dataset prediction\n",
      "  model learn from = paranoia win40\n",
      "  model testing    = sherlock win30\n"
     ]
    }
   ],
   "source": [
    "dataset_learn = 'paranoia'\n",
    "dataset_test = 'sherlock'\n",
    "\n",
    "thres = 0.01\n",
    "nR = 122\n",
    "path = os.path.dirname(os.path.dirname(os.getcwd()))\n",
    "\n",
    "learn_nsubj = scipy.io.loadmat(path + '/data/hyperparameters.mat')[dataset_learn + '_nsubj'][0][0]\n",
    "learn_wsize = scipy.io.loadmat(path + '/data/hyperparameters.mat')[dataset_learn + '_wsize'][0]\n",
    "learn_nT = scipy.io.loadmat(path + '/data/hyperparameters.mat')[dataset_learn + '_nT'][0][0]\n",
    "\n",
    "test_nsubj = scipy.io.loadmat(path + '/data/hyperparameters.mat')[dataset_test + '_nsubj'][0][0]\n",
    "test_wsize = scipy.io.loadmat(path + '/data/hyperparameters.mat')[dataset_test + '_wsize'][0]\n",
    "test_nT = scipy.io.loadmat(path + '/data/hyperparameters.mat')[dataset_test + '_nT'][0][0]\n",
    "\n",
    "print('Across-dataset prediction')\n",
    "\n",
    "learn_wsize = learn_wsize[1]\n",
    "test_wsize = test_wsize[1]\n",
    "print('  model learn from = '+str(dataset_learn)+' win'+str(learn_wsize))\n",
    "print('  model testing    = '+str(dataset_test)+' win'+str(test_wsize))"
   ]
  },
  {
   "cell_type": "markdown",
   "metadata": {},
   "source": [
    "## Load behavior data"
   ]
  },
  {
   "cell_type": "code",
   "execution_count": 3,
   "metadata": {},
   "outputs": [
    {
     "name": "stdout",
     "output_type": "stream",
     "text": [
      "  model learn: engagement shape (1270,)\n",
      "  model test : engagement shape (1946,)\n"
     ]
    }
   ],
   "source": [
    "engagement_learn = scipy.io.loadmat(path + '/data_processed/'+ dataset_learn + '/win' + str(learn_wsize) + '/sliding-engagement.mat')['sliding_engagement'][:,0]\n",
    "engagement_test = scipy.io.loadmat(path + '/data_processed/'+ dataset_test + '/win' + str(test_wsize) + '/sliding-engagement.mat')['sliding_engagement'][:,0]\n",
    "print('  model learn: engagement shape '+str(engagement_learn.shape))\n",
    "print('  model test : engagement shape '+str(engagement_test.shape))"
   ]
  },
  {
   "cell_type": "markdown",
   "metadata": {},
   "source": [
    "## Load brain data"
   ]
  },
  {
   "cell_type": "code",
   "execution_count": 4,
   "metadata": {},
   "outputs": [
    {
     "name": "stderr",
     "output_type": "stream",
     "text": [
      "/Users/hayoungsong/anaconda3/lib/python3.7/site-packages/scipy/stats/stats.py:2413: RuntimeWarning: Mean of empty slice\n",
      "  mns = np.nanmean(a=a, axis=axis, keepdims=True)\n",
      "/Users/hayoungsong/anaconda3/lib/python3.7/site-packages/numpy/lib/nanfunctions.py:1665: RuntimeWarning: Degrees of freedom <= 0 for slice.\n",
      "  keepdims=keepdims)\n"
     ]
    },
    {
     "name": "stdout",
     "output_type": "stream",
     "text": [
      "  model learn: brain entire feature shape (22, 7381, 1270)\n",
      "  model test : brain entire feature shape (17, 7381, 1946)\n"
     ]
    }
   ],
   "source": [
    "dynFeat_learn = scipy.io.loadmat(path + '/data_processed/' + dataset_learn + '/win'+str(learn_wsize) + '/sliding-dynFeat.mat')['dynFeat']\n",
    "dynFeat_learn = scipy.stats.zscore(dynFeat_learn,2,nan_policy='omit') # zscore per feature\n",
    "dynFeat_test = scipy.io.loadmat(path + '/data_processed/' + dataset_test + '/win'+str(test_wsize) + '/sliding-dynFeat.mat')['dynFeat']\n",
    "dynFeat_test = scipy.stats.zscore(dynFeat_test,2,nan_policy='omit') # zscore per feature\n",
    "print('  model learn: brain entire feature shape '+str(dynFeat_learn.shape))\n",
    "print('  model test : brain entire feature shape '+str(dynFeat_test.shape))"
   ]
  },
  {
   "cell_type": "markdown",
   "metadata": {},
   "source": [
    "## Load brain features\n",
    "In a within-dataset prediction, we conducted feature selection in each cross-validation (functional connections that were significantly correlated with group-average engagement with the training sample). Here, we use functional connections that were selected in *every* round of cross-validation. (The code runs with the saved output from within-dataset prediction.)"
   ]
  },
  {
   "cell_type": "code",
   "execution_count": 5,
   "metadata": {},
   "outputs": [
    {
     "name": "stdout",
     "output_type": "stream",
     "text": [
      " #pos = 125 , #neg = 80\n"
     ]
    }
   ],
   "source": [
    "savepath=path+'/result/dynPred/'+str(dataset_learn)+'/win'+str(learn_wsize)\n",
    "pos_feat = scipy.io.loadmat(savepath + '/within_engagement.mat')['pos_feat']\n",
    "neg_feat = scipy.io.loadmat(savepath + '/within_engagement.mat')['neg_feat']\n",
    "pos_feat, neg_feat = np.average(pos_feat,0), np.average(neg_feat,0)\n",
    "for i1 in range(nR):\n",
    "    for i2 in range(nR):\n",
    "        if pos_feat[i1,i2]<1:\n",
    "            pos_feat[i1,i2]=0\n",
    "        if neg_feat[i1,i2]<1:\n",
    "            neg_feat[i1,i2]=0\n",
    "print(' #pos = '+str(int(np.sum(pos_feat)/2)), ', #neg = '+str(int(np.sum(neg_feat)/2)))\n",
    "all_feat = pos_feat+neg_feat\n",
    "featid = []\n",
    "ii = -1\n",
    "for i1 in range(nR-1):\n",
    "    for i2 in range(i1+1,nR):\n",
    "        ii=ii+1\n",
    "        if all_feat[i1,i2]==1:\n",
    "            featid.append(ii)"
   ]
  },
  {
   "cell_type": "code",
   "execution_count": 6,
   "metadata": {},
   "outputs": [
    {
     "name": "stdout",
     "output_type": "stream",
     "text": [
      "  model learn: brain selected feature shape (22, 205, 1270)\n",
      "  model test : brain selected feature shape (17, 205, 1946)\n"
     ]
    }
   ],
   "source": [
    "dynFeat_learn = dynFeat_learn[:,featid,:]\n",
    "dynFeat_test = dynFeat_test[:,featid,:]\n",
    "print('  model learn: brain selected feature shape '+str(dynFeat_learn.shape))\n",
    "print('  model test : brain selected feature shape '+str(dynFeat_test.shape))"
   ]
  },
  {
   "cell_type": "code",
   "execution_count": 7,
   "metadata": {},
   "outputs": [],
   "source": [
    "train_feat = np.transpose(dynFeat_learn,(1,0,2))\n",
    "train_feat = np.reshape(train_feat,(train_feat.shape[0],train_feat.shape[1]*train_feat.shape[2]))\n",
    "\n",
    "train_engagement = []\n",
    "for sub in range(learn_nsubj):\n",
    "    train_engagement.append(engagement_learn)\n",
    "train_engagement = np.asarray(train_engagement)\n",
    "train_engagement = np.reshape(train_engagement, (train_engagement.shape[0] * train_engagement.shape[1]))\n",
    "\n",
    "# if several TRs are removed\n",
    "rmtr_train = []\n",
    "for tm in range(train_feat.shape[1]):\n",
    "    if np.all(np.isnan(train_feat[:,tm])):\n",
    "        rmtr_train.append(tm)\n",
    "rmtr_train = np.asarray(rmtr_train)\n",
    "if len(rmtr_train)>0:\n",
    "    train_feat = np.delete(train_feat,rmtr_train,1)\n",
    "    train_engagement = np.delete(train_engagement,rmtr_train,0)"
   ]
  },
  {
   "cell_type": "code",
   "execution_count": 8,
   "metadata": {},
   "outputs": [
    {
     "name": "stdout",
     "output_type": "stream",
     "text": [
      "NaN = [ 31  71 145 170]\n"
     ]
    }
   ],
   "source": [
    "nanidx = []\n",
    "for ft in range(train_feat.shape[0]):\n",
    "    if np.any(np.isnan(train_feat[ft,:])):\n",
    "        nanidx.append(ft)\n",
    "for subj in range(dynFeat_test.shape[0]):\n",
    "    for ft in range(dynFeat_test.shape[1]):\n",
    "        if dataset_test=='sherlock' and subj==4:\n",
    "            pass\n",
    "        else:\n",
    "            if np.any(np.isnan(dynFeat_test[subj,ft,:])):\n",
    "                nanidx.append(ft)\n",
    "nanidx = np.unique(nanidx)\n",
    "print('NaN = '+str(nanidx))\n",
    "\n",
    "if len(nanidx)>0:\n",
    "    train_feat = np.delete(train_feat,nanidx,0)\n",
    "    dynFeat_test = np.delete(dynFeat_test,nanidx,1)"
   ]
  },
  {
   "cell_type": "markdown",
   "metadata": {},
   "source": [
    "## Support vector regression with non-linear kernel"
   ]
  },
  {
   "cell_type": "code",
   "execution_count": 9,
   "metadata": {},
   "outputs": [
    {
     "name": "stdout",
     "output_type": "stream",
     "text": [
      "SVR prediction with model learned from paranoia\n",
      "  train feature   : (27940, 201)\n",
      "  train engagement: (27940,)\n",
      "Training done!\n"
     ]
    }
   ],
   "source": [
    "print('SVR prediction with model learned from '+str(dataset_learn))\n",
    "print('  train feature   : '+str(train_feat.T.shape))\n",
    "print('  train engagement: '+str(train_engagement.shape))\n",
    "\n",
    "clf = []\n",
    "clf = svm.SVR(kernel='rbf',max_iter=1000, gamma='auto')\n",
    "with warnings.catch_warnings():\n",
    "    warnings.filterwarnings(\"ignore\", category=ConvergenceWarning)\n",
    "    clf.fit(train_feat.T, train_engagement)\n",
    "print('Training done!')"
   ]
  },
  {
   "cell_type": "code",
   "execution_count": 10,
   "metadata": {},
   "outputs": [
    {
     "name": "stdout",
     "output_type": "stream",
     "text": [
      " subj 1 / 17: pearson r=0.231 , mse=0.963, rsq=0.037\n",
      "              (train) ft 27940, beh 27940, (test) ft 1946, beh 1946\n",
      " subj 2 / 17: pearson r=0.28 , mse=0.961, rsq=0.038\n",
      "              (train) ft 27940, beh 27940, (test) ft 1946, beh 1946\n",
      " subj 3 / 17: pearson r=0.304 , mse=0.916, rsq=0.084\n",
      "              (train) ft 27940, beh 27940, (test) ft 1946, beh 1946\n",
      " subj 4 / 17: pearson r=0.276 , mse=0.937, rsq=0.062\n",
      "              (train) ft 27940, beh 27940, (test) ft 1946, beh 1946\n",
      " subj 5 / 17: pearson r=0.129 , mse=1.107, rsq=-0.108\n",
      "              (train) ft 27940, beh 27940, (test) ft 1895, beh 1895\n",
      " subj 6 / 17: pearson r=-0.027 , mse=1.18, rsq=-0.18\n",
      "              (train) ft 27940, beh 27940, (test) ft 1946, beh 1946\n",
      " subj 7 / 17: pearson r=0.318 , mse=0.919, rsq=0.08\n",
      "              (train) ft 27940, beh 27940, (test) ft 1946, beh 1946\n",
      " subj 8 / 17: pearson r=0.233 , mse=1.003, rsq=-0.003\n",
      "              (train) ft 27940, beh 27940, (test) ft 1946, beh 1946\n",
      " subj 9 / 17: pearson r=-0.037 , mse=1.175, rsq=-0.176\n",
      "              (train) ft 27940, beh 27940, (test) ft 1946, beh 1946\n",
      " subj 10 / 17: pearson r=0.106 , mse=1.09, rsq=-0.091\n",
      "              (train) ft 27940, beh 27940, (test) ft 1946, beh 1946\n",
      " subj 11 / 17: pearson r=0.116 , mse=1.083, rsq=-0.083\n",
      "              (train) ft 27940, beh 27940, (test) ft 1946, beh 1946\n",
      " subj 12 / 17: pearson r=-0.004 , mse=1.161, rsq=-0.161\n",
      "              (train) ft 27940, beh 27940, (test) ft 1946, beh 1946\n",
      " subj 13 / 17: pearson r=0.097 , mse=1.103, rsq=-0.103\n",
      "              (train) ft 27940, beh 27940, (test) ft 1946, beh 1946\n",
      " subj 14 / 17: pearson r=0.377 , mse=0.874, rsq=0.126\n",
      "              (train) ft 27940, beh 27940, (test) ft 1946, beh 1946\n",
      " subj 15 / 17: pearson r=0.105 , mse=1.083, rsq=-0.084\n",
      "              (train) ft 27940, beh 27940, (test) ft 1946, beh 1946\n",
      " subj 16 / 17: pearson r=0.331 , mse=0.897, rsq=0.102\n",
      "              (train) ft 27940, beh 27940, (test) ft 1946, beh 1946\n",
      " subj 17 / 17: pearson r=0.307 , mse=0.925, rsq=0.074\n",
      "              (train) ft 27940, beh 27940, (test) ft 1946, beh 1946\n"
     ]
    },
    {
     "name": "stderr",
     "output_type": "stream",
     "text": [
      "/Users/hayoungsong/anaconda3/lib/python3.7/site-packages/numpy/core/_asarray.py:83: VisibleDeprecationWarning: Creating an ndarray from ragged nested sequences (which is a list-or-tuple of lists-or-tuples-or ndarrays with different lengths or shapes) is deprecated. If you meant to do this, you must specify 'dtype=object' when creating the ndarray\n",
      "  return array(a, dtype, copy=False, order=order)\n"
     ]
    }
   ],
   "source": [
    "output_acc, output_eval = [], []\n",
    "for test_sub in range(test_nsubj):\n",
    "    test_feat = dynFeat_test[test_sub, :, :]\n",
    "    test_behavior = engagement_test\n",
    "\n",
    "    rmtr_test = []\n",
    "    for tm in range(test_feat.shape[1]):\n",
    "        if np.all(np.isnan(test_feat[:, tm])):\n",
    "            rmtr_test.append(tm)\n",
    "    rmtr_test = np.asarray(rmtr_test)\n",
    "    if len(rmtr_test) > 0:\n",
    "        test_feat = np.delete(test_feat, rmtr_test, 1)\n",
    "        test_behavior = np.delete(test_behavior, rmtr_test, 0)\n",
    "\n",
    "    predicted = clf.predict(test_feat.T)\n",
    "    output_acc.append(predicted)\n",
    "\n",
    "    # evaluate\n",
    "    pearsonr = scipy.stats.pearsonr(test_behavior, predicted)\n",
    "    mse = metrics.mean_squared_error(test_behavior, predicted)\n",
    "    rsq = metrics.r2_score(test_behavior, predicted)\n",
    "    output_eval.append([pearsonr[0], mse, rsq])\n",
    "    print(' subj ' + str(test_sub + 1) + ' / ' + str(test_nsubj) + ': pearson r=' + str(\n",
    "            np.round(pearsonr[0], 3)), ', mse=' + str(np.round(mse, 3)) + ', rsq=' + str(np.round(rsq, 3)))\n",
    "    print('              (train) ft ' + str(train_feat.shape[1]) + ', beh ' + str(train_engagement.shape[0]) +\n",
    "              ', (test) ft ' + str(test_feat.shape[1]) + ', beh ' + str(test_behavior.shape[0]))\n",
    "\n",
    "output_acc, output_eval = np.asarray(output_acc), np.asarray(output_eval)"
   ]
  },
  {
   "cell_type": "markdown",
   "metadata": {},
   "source": [
    "## Check cross-validation prediction accuracy"
   ]
  },
  {
   "cell_type": "code",
   "execution_count": 11,
   "metadata": {},
   "outputs": [
    {
     "name": "stdout",
     "output_type": "stream",
     "text": [
      "Prediction result (mean of cross-validations): sherlock\n",
      " pearson r = 0.188\n",
      " MSE       = 1.022\n",
      " r-squared = -0.023\n"
     ]
    },
    {
     "data": {
      "image/png": "[encoded data removed]",
      "text/plain": [
       "<Figure size 432x288 with 3 Axes>"
      ]
     },
     "metadata": {
      "needs_background": "light"
     },
     "output_type": "display_data"
    }
   ],
   "source": [
    "fig, axs = plt.subplots(1,3)\n",
    "axs[0].hist(output_eval[:,0])\n",
    "axs[0].set_title('Pearson correlation')\n",
    "axs[1].hist(output_eval[:,1])\n",
    "axs[1].set_title('MSE')\n",
    "axs[2].hist(output_eval[:,2])\n",
    "axs[2].set_title('r-squared')\n",
    "\n",
    "print('Prediction result (mean of cross-validations): '+dataset_test)\n",
    "print(' pearson r = '+str(np.round(conv_z2r(np.mean(conv_r2z(output_eval[:,0]))),3)))\n",
    "print(' MSE       = '+str(np.round(np.mean(output_eval[:,1]),3)))\n",
    "print(' r-squared = '+str(np.round(np.mean(output_eval[:,2]),3)))"
   ]
  },
  {
   "cell_type": "markdown",
   "metadata": {},
   "source": [
    "## Save output"
   ]
  },
  {
   "cell_type": "code",
   "execution_count": 12,
   "metadata": {},
   "outputs": [],
   "source": [
    "savepath=path+'/result/dynPred/'+str(dataset_test)+'/win'+str(test_wsize)\n",
    "if os.path.exists(savepath)==0:\n",
    "    os.makedirs(savepath)\n",
    "result = {'acc': output_acc, 'eval': output_eval}\n",
    "scipy.io.savemat(savepath+'/across_engagement.mat', result)"
   ]
  },
  {
   "cell_type": "markdown",
   "metadata": {},
   "source": [
    "## Non-parametric permutation tests"
   ]
  },
  {
   "cell_type": "code",
   "execution_count": 13,
   "metadata": {},
   "outputs": [
    {
     "name": "stdout",
     "output_type": "stream",
     "text": [
      "[learn] phase randomized engagement rating: shape (1270, 2)\n",
      "[test]  phase randomized engagement rating: shape (1946, 2)\n"
     ]
    }
   ],
   "source": [
    "niter = 2\n",
    "# permutation takes huge amount of time, so let's try with small number\n",
    "\n",
    "engagement_learn_surr = scipy.io.loadmat(path+'/data_processed/'+dataset_learn+'/win'+str(learn_wsize)+'/sliding-engagement-surr.mat')['sliding_surr_engagement'][:,:niter]\n",
    "engagement_test_surr = scipy.io.loadmat(path+'/data_processed/'+dataset_test+'/win'+str(test_wsize)+'/sliding-engagement-surr.mat')['sliding_surr_engagement'][:,:niter]\n",
    "print('[learn] phase randomized engagement rating: shape '+str(engagement_learn_surr.shape))\n",
    "print('[test]  phase randomized engagement rating: shape '+str(engagement_test_surr.shape))"
   ]
  },
  {
   "cell_type": "code",
   "execution_count": 14,
   "metadata": {},
   "outputs": [
    {
     "name": "stdout",
     "output_type": "stream",
     "text": [
      "Null prediction results: iter = 2\n"
     ]
    },
    {
     "name": "stderr",
     "output_type": "stream",
     "text": [
      "/Users/hayoungsong/anaconda3/lib/python3.7/site-packages/numpy/core/_asarray.py:83: VisibleDeprecationWarning: Creating an ndarray from ragged nested sequences (which is a list-or-tuple of lists-or-tuples-or ndarrays with different lengths or shapes) is deprecated. If you meant to do this, you must specify 'dtype=object' when creating the ndarray\n",
      "  return array(a, dtype, copy=False, order=order)\n"
     ]
    },
    {
     "name": "stdout",
     "output_type": "stream",
     "text": [
      "null 1 / 2 : pearson r = -0.014, mse = 1.156, rsq = -0.156\n",
      "null 2 / 2 : pearson r = -0.083, mse = 1.179, rsq = -0.182\n"
     ]
    },
    {
     "name": "stderr",
     "output_type": "stream",
     "text": [
      "/Users/hayoungsong/anaconda3/lib/python3.7/site-packages/numpy/core/_asarray.py:83: VisibleDeprecationWarning: Creating an ndarray from ragged nested sequences (which is a list-or-tuple of lists-or-tuples-or ndarrays with different lengths or shapes) is deprecated. If you meant to do this, you must specify 'dtype=object' when creating the ndarray\n",
      "  return array(a, dtype, copy=False, order=order)\n"
     ]
    }
   ],
   "source": [
    "if not os.path.exists(savepath+'/across_engagement_null'):\n",
    "    os.makedirs(savepath+'/across_engagement_null')\n",
    "\n",
    "print('Null prediction results: iter = '+str(niter))\n",
    "surr_pearsonr, surr_mse, surr_rsq = [], [], []\n",
    "for iter in range(niter):\n",
    "    engagement_learn = engagement_learn_surr[:,iter]\n",
    "    \n",
    "    train_engagement = []\n",
    "    for sub in range(learn_nsubj):\n",
    "        train_engagement.append(engagement_learn)\n",
    "    train_engagement = np.asarray(train_engagement)\n",
    "    train_engagement = np.reshape(train_engagement, (train_engagement.shape[0] * train_engagement.shape[1]))\n",
    "    \n",
    "    # if several TRs are removed\n",
    "    if len(rmtr_train)>0:\n",
    "        train_engagement = np.delete(train_engagement, rmtr_train,0)\n",
    "    \n",
    "    clf = []\n",
    "    clf = svm.SVR(kernel='rbf',max_iter=1000, gamma='auto')\n",
    "    with warnings.catch_warnings():\n",
    "        warnings.filterwarnings(\"ignore\", category=ConvergenceWarning)\n",
    "        clf.fit(train_feat.T, train_engagement)\n",
    "    \n",
    "    surr_acc, surr_eval = [], []\n",
    "    for test_sub in range(test_nsubj):\n",
    "        test_feat = dynFeat_test[test_sub,:,:]\n",
    "        test_behavior = engagement_test_surr[:,iter]\n",
    "        \n",
    "        rmtr_test = []\n",
    "        for tm in range(test_feat.shape[1]):\n",
    "            if np.all(np.isnan(test_feat[:,tm])):\n",
    "                rmtr_test.append(tm)\n",
    "        rmtr_test = np.asarray(rmtr_test)\n",
    "        if len(rmtr_test)>0:\n",
    "            test_feat = np.delete(test_feat, rmtr_test, 1)\n",
    "            test_behavior = np.delete(test_behavior, rmtr_test,0)\n",
    "        \n",
    "        predicted = clf.predict(test_feat.T)\n",
    "        surr_acc.append(predicted)\n",
    "        \n",
    "        # evaluate\n",
    "        pearsonr = scipy.stats.pearsonr(test_behavior, predicted)\n",
    "        mse = metrics.mean_squared_error(test_behavior, predicted)\n",
    "        rsq = metrics.r2_score(test_behavior, predicted)\n",
    "        surr_eval.append([pearsonr[0], mse, rsq])\n",
    "        \n",
    "    surr_acc, surr_eval = np.asarray(surr_acc), np.asarray(surr_eval)\n",
    "    surr_pearsonr.append(surr_eval[:,0])\n",
    "    surr_mse.append(surr_eval[:,1])\n",
    "    surr_rsq.append(surr_eval[:,2])\n",
    "    print('null ' + str(iter + 1) + ' / ' + str(niter)+\n",
    "          ' : pearson r = '+str(np.round(conv_z2r(np.mean(conv_r2z(surr_eval[:,0]))),3))+\n",
    "          ', mse = '+str(np.round(np.mean(surr_eval[:,1]),3))+\n",
    "          ', rsq = '+str(np.round(np.mean(surr_eval[:,2]),3)))\n",
    "    result = {'acc':surr_acc, 'eval':surr_eval}\n",
    "    scipy.io.savemat(savepath+'/across_engagement_null/null'+str(iter+1)+'.mat',result)\n",
    "\n",
    "surr_pearsonr, surr_mse, surr_rsq = np.asarray(surr_pearsonr), np.asarray(surr_mse), np.asarray(surr_rsq)"
   ]
  },
  {
   "cell_type": "code",
   "execution_count": 15,
   "metadata": {},
   "outputs": [],
   "source": [
    "def onetail_p(real, null):\n",
    "    p = (1 + np.sum(null>=real)) / (1+len(null))\n",
    "    print(str(np.sum(null>=real))+' among '+str(len(null))+' null has higher r value than actual prediction')\n",
    "    return p"
   ]
  },
  {
   "cell_type": "code",
   "execution_count": 16,
   "metadata": {},
   "outputs": [
    {
     "name": "stdout",
     "output_type": "stream",
     "text": [
      "0 among 2 null has higher r value than actual prediction\n",
      "p = 0.333\n"
     ]
    }
   ],
   "source": [
    "p = onetail_p(conv_z2r(np.mean(conv_r2z(output_eval[:,0]))), conv_z2r(np.average(conv_r2z(surr_pearsonr),1)))\n",
    "print('p = '+str(np.round(p,3)))"
   ]
  },
  {
   "cell_type": "code",
   "execution_count": 17,
   "metadata": {},
   "outputs": [
    {
     "data": {
      "text/plain": [
       "<matplotlib.collections.LineCollection at 0x15fbbb2b0>"
      ]
     },
     "execution_count": 17,
     "metadata": {},
     "output_type": "execute_result"
    },
    {
     "data": {
      "image/png": "[encoded data removed]",
      "text/plain": [
       "<Figure size 432x288 with 1 Axes>"
      ]
     },
     "metadata": {
      "needs_background": "light"
     },
     "output_type": "display_data"
    }
   ],
   "source": [
    "plt.hist(conv_z2r(np.average(conv_r2z(surr_pearsonr),1)))\n",
    "plt.vlines(conv_z2r(np.mean(conv_r2z(output_eval[:,0]))),0,2)"
   ]
  }
 ],
 "metadata": {
  "kernelspec": {
   "display_name": "Python 3",
   "language": "python",
   "name": "python3"
  },
  "language_info": {
   "codemirror_mode": {
    "name": "ipython",
    "version": 3
   },
   "file_extension": ".py",
   "mimetype": "text/x-python",
   "name": "python",
   "nbconvert_exporter": "python",
   "pygments_lexer": "ipython3",
   "version": "3.7.3"
  }
 },
 "nbformat": 4,
 "nbformat_minor": 2
}
